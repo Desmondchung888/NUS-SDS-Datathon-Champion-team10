{
 "cells": [
  {
   "cell_type": "markdown",
   "metadata": {},
   "source": [
    "##### The cell below is for you to keep track of the libraries used and install those libraries quickly\n",
    "##### Ensure that the proper library names are used and the syntax of `%pip install PACKAGE_NAME` is followed"
   ]
  },
  {
   "cell_type": "code",
   "execution_count": 112,
   "metadata": {},
   "outputs": [],
   "source": [
    "#%pip install pandas \n",
    "#%pip install matplotlib\n",
    "# add commented pip installation lines for packages used as shown above for ease of testing\n",
    "# the line should be of the format %pip install PACKAGE_NAME "
   ]
  },
  {
   "cell_type": "markdown",
   "metadata": {},
   "source": [
    "## **DO NOT CHANGE** the filepath variable\n",
    "##### Instead, create a folder named 'data' in your current working directory and \n",
    "##### have the .csv file inside that. A relative path *must* be used when loading data into pandas"
   ]
  },
  {
   "cell_type": "code",
   "execution_count": 113,
   "metadata": {},
   "outputs": [],
   "source": [
    "# Can have as many cells as you want for code\n",
    "import pandas as pd\n",
    "#filepath = \"./data/catA_train.csv\" \n",
    "#df = pd.read_csv(filepath)\n",
    "# the initialised filepath MUST be a relative path to a folder named data that contains the parquet file\n",
    "\n",
    "df2 = pd.read_csv(r\"C:\\Users\\Desmond\\Downloads\\catA_train.csv\")"
   ]
  },
  {
   "cell_type": "code",
   "execution_count": 114,
   "metadata": {},
   "outputs": [],
   "source": [
    "# Remove rows where the Company Status is 'Inactive'\n",
    "df2 = df2[df2['Company Status (Active/Inactive)'] == 'Active']\n",
    "# removes rows without either lat or long coordinates\n",
    "df2 = df2.dropna(subset=[\"LATITUDE\", \"LONGITUDE\"])\n",
    "\n",
    "\n",
    "\n"
   ]
  },
  {
   "cell_type": "code",
   "execution_count": null,
   "metadata": {},
   "outputs": [],
   "source": []
  },
  {
   "cell_type": "code",
   "execution_count": 115,
   "metadata": {},
   "outputs": [
    {
     "data": {
      "text/html": [
       "<div>\n",
       "<style scoped>\n",
       "    .dataframe tbody tr th:only-of-type {\n",
       "        vertical-align: middle;\n",
       "    }\n",
       "\n",
       "    .dataframe tbody tr th {\n",
       "        vertical-align: top;\n",
       "    }\n",
       "\n",
       "    .dataframe thead th {\n",
       "        text-align: right;\n",
       "    }\n",
       "</style>\n",
       "<table border=\"1\" class=\"dataframe\">\n",
       "  <thead>\n",
       "    <tr style=\"text-align: right;\">\n",
       "      <th></th>\n",
       "      <th>LATITUDE</th>\n",
       "      <th>LONGITUDE</th>\n",
       "      <th>AccountID</th>\n",
       "      <th>Company</th>\n",
       "      <th>SIC Code</th>\n",
       "      <th>Industry</th>\n",
       "      <th>8-Digit SIC Code</th>\n",
       "      <th>8-Digit SIC Description</th>\n",
       "      <th>Year Found</th>\n",
       "      <th>Entity Type</th>\n",
       "      <th>...</th>\n",
       "      <th>Employees (Global Ultimate Total)</th>\n",
       "      <th>Sales (Domestic Ultimate Total USD)</th>\n",
       "      <th>Sales (Global Ultimate Total USD)</th>\n",
       "      <th>Import/Export Status</th>\n",
       "      <th>Fiscal Year End</th>\n",
       "      <th>Global Ultimate Company</th>\n",
       "      <th>Global Ultimate Country</th>\n",
       "      <th>Domestic Ultimate Company</th>\n",
       "      <th>Is Domestic Ultimate</th>\n",
       "      <th>Is Global Ultimate</th>\n",
       "    </tr>\n",
       "  </thead>\n",
       "  <tbody>\n",
       "    <tr>\n",
       "      <th>0</th>\n",
       "      <td>1.285495</td>\n",
       "      <td>103.843852</td>\n",
       "      <td>LAKB2BID4559214</td>\n",
       "      <td>FRANK CONSULTING SERVICES PRIVATE LIMITED</td>\n",
       "      <td>7361</td>\n",
       "      <td>Employment Agencies</td>\n",
       "      <td>73610000</td>\n",
       "      <td>Employment agencies</td>\n",
       "      <td>2020.0</td>\n",
       "      <td>Subsidiary</td>\n",
       "      <td>...</td>\n",
       "      <td>NaN</td>\n",
       "      <td>2.209224e+06</td>\n",
       "      <td>4.637871e+06</td>\n",
       "      <td>NaN</td>\n",
       "      <td>NaN</td>\n",
       "      <td>FINDERS HOLDCO LIMITED</td>\n",
       "      <td>United Kingdom</td>\n",
       "      <td>FRANK RECRUITMENT GROUP PRIVATE LTD.</td>\n",
       "      <td>0</td>\n",
       "      <td>0</td>\n",
       "    </tr>\n",
       "    <tr>\n",
       "      <th>1</th>\n",
       "      <td>1.291294</td>\n",
       "      <td>103.827476</td>\n",
       "      <td>LAKB2BID7610849</td>\n",
       "      <td>NEW DESERT ORCHID SHIPPING PTE. LTD.</td>\n",
       "      <td>4449</td>\n",
       "      <td>Water Transportation of Freight, Not Elsewhere...</td>\n",
       "      <td>44490000</td>\n",
       "      <td>Water transportation of freight</td>\n",
       "      <td>2015.0</td>\n",
       "      <td>Subsidiary</td>\n",
       "      <td>...</td>\n",
       "      <td>100.0</td>\n",
       "      <td>7.093536e+09</td>\n",
       "      <td>7.093536e+09</td>\n",
       "      <td>NaN</td>\n",
       "      <td>NaN</td>\n",
       "      <td>PETREDEC PTE. LIMITED</td>\n",
       "      <td>Singapore</td>\n",
       "      <td>NaN</td>\n",
       "      <td>0</td>\n",
       "      <td>0</td>\n",
       "    </tr>\n",
       "    <tr>\n",
       "      <th>2</th>\n",
       "      <td>1.300144</td>\n",
       "      <td>103.857517</td>\n",
       "      <td>LAKB2BID5461679</td>\n",
       "      <td>2MBAO BIOCELLBANK PTE. LTD.</td>\n",
       "      <td>6719</td>\n",
       "      <td>Offices of Holding Companies, Not Elsewhere Cl...</td>\n",
       "      <td>67190000</td>\n",
       "      <td>Holding companies, nec</td>\n",
       "      <td>1993.0</td>\n",
       "      <td>Subsidiary</td>\n",
       "      <td>...</td>\n",
       "      <td>4.0</td>\n",
       "      <td>1.026308e+06</td>\n",
       "      <td>1.026308e+06</td>\n",
       "      <td>NaN</td>\n",
       "      <td>NaN</td>\n",
       "      <td>MADISON LIGHTERS AND WATCHES CO LTD</td>\n",
       "      <td>Hong Kong SAR</td>\n",
       "      <td>2MBAO BIOCELLBANK PTE. LTD.</td>\n",
       "      <td>1</td>\n",
       "      <td>0</td>\n",
       "    </tr>\n",
       "    <tr>\n",
       "      <th>3</th>\n",
       "      <td>1.300785</td>\n",
       "      <td>103.791263</td>\n",
       "      <td>LAKB2BID5088529</td>\n",
       "      <td>NEWBLOOM PTE. LTD.</td>\n",
       "      <td>6719</td>\n",
       "      <td>Offices of Holding Companies, Not Elsewhere Cl...</td>\n",
       "      <td>67190000</td>\n",
       "      <td>Holding companies, nec</td>\n",
       "      <td>2006.0</td>\n",
       "      <td>Subsidiary</td>\n",
       "      <td>...</td>\n",
       "      <td>100.0</td>\n",
       "      <td>7.339898e+10</td>\n",
       "      <td>7.339898e+10</td>\n",
       "      <td>NaN</td>\n",
       "      <td>NaN</td>\n",
       "      <td>WILMAR INTERNATIONAL LIMITED</td>\n",
       "      <td>Singapore</td>\n",
       "      <td>WILMAR INTERNATIONAL LIMITED</td>\n",
       "      <td>0</td>\n",
       "      <td>0</td>\n",
       "    </tr>\n",
       "    <tr>\n",
       "      <th>4</th>\n",
       "      <td>1.298759</td>\n",
       "      <td>103.859430</td>\n",
       "      <td>LAKB2BID1268831</td>\n",
       "      <td>ASIA GREEN CAPITAL PTE. LTD.</td>\n",
       "      <td>6719</td>\n",
       "      <td>Offices of Holding Companies, Not Elsewhere Cl...</td>\n",
       "      <td>67190000</td>\n",
       "      <td>Holding companies, nec</td>\n",
       "      <td>2006.0</td>\n",
       "      <td>Parent</td>\n",
       "      <td>...</td>\n",
       "      <td>4.0</td>\n",
       "      <td>4.322130e+05</td>\n",
       "      <td>4.322130e+05</td>\n",
       "      <td>Exports</td>\n",
       "      <td>NaN</td>\n",
       "      <td>ASIA GREEN CAPITAL PTE. LTD.</td>\n",
       "      <td>Singapore</td>\n",
       "      <td>ASIA GREEN CAPITAL PTE. LTD.</td>\n",
       "      <td>1</td>\n",
       "      <td>1</td>\n",
       "    </tr>\n",
       "  </tbody>\n",
       "</table>\n",
       "<p>5 rows × 28 columns</p>\n",
       "</div>"
      ],
      "text/plain": [
       "   LATITUDE   LONGITUDE        AccountID  \\\n",
       "0  1.285495  103.843852  LAKB2BID4559214   \n",
       "1  1.291294  103.827476  LAKB2BID7610849   \n",
       "2  1.300144  103.857517  LAKB2BID5461679   \n",
       "3  1.300785  103.791263  LAKB2BID5088529   \n",
       "4  1.298759  103.859430  LAKB2BID1268831   \n",
       "\n",
       "                                     Company  SIC Code  \\\n",
       "0  FRANK CONSULTING SERVICES PRIVATE LIMITED      7361   \n",
       "1       NEW DESERT ORCHID SHIPPING PTE. LTD.      4449   \n",
       "2                2MBAO BIOCELLBANK PTE. LTD.      6719   \n",
       "3                         NEWBLOOM PTE. LTD.      6719   \n",
       "4               ASIA GREEN CAPITAL PTE. LTD.      6719   \n",
       "\n",
       "                                            Industry  8-Digit SIC Code  \\\n",
       "0                                Employment Agencies          73610000   \n",
       "1  Water Transportation of Freight, Not Elsewhere...          44490000   \n",
       "2  Offices of Holding Companies, Not Elsewhere Cl...          67190000   \n",
       "3  Offices of Holding Companies, Not Elsewhere Cl...          67190000   \n",
       "4  Offices of Holding Companies, Not Elsewhere Cl...          67190000   \n",
       "\n",
       "           8-Digit SIC Description  Year Found Entity Type  ...  \\\n",
       "0              Employment agencies      2020.0  Subsidiary  ...   \n",
       "1  Water transportation of freight      2015.0  Subsidiary  ...   \n",
       "2           Holding companies, nec      1993.0  Subsidiary  ...   \n",
       "3           Holding companies, nec      2006.0  Subsidiary  ...   \n",
       "4           Holding companies, nec      2006.0      Parent  ...   \n",
       "\n",
       "  Employees (Global Ultimate Total) Sales (Domestic Ultimate Total USD)  \\\n",
       "0                               NaN                        2.209224e+06   \n",
       "1                             100.0                        7.093536e+09   \n",
       "2                               4.0                        1.026308e+06   \n",
       "3                             100.0                        7.339898e+10   \n",
       "4                               4.0                        4.322130e+05   \n",
       "\n",
       "  Sales (Global Ultimate Total USD) Import/Export Status  Fiscal Year End  \\\n",
       "0                      4.637871e+06                  NaN              NaN   \n",
       "1                      7.093536e+09                  NaN              NaN   \n",
       "2                      1.026308e+06                  NaN              NaN   \n",
       "3                      7.339898e+10                  NaN              NaN   \n",
       "4                      4.322130e+05              Exports              NaN   \n",
       "\n",
       "               Global Ultimate Company  Global Ultimate Country  \\\n",
       "0               FINDERS HOLDCO LIMITED           United Kingdom   \n",
       "1                PETREDEC PTE. LIMITED                Singapore   \n",
       "2  MADISON LIGHTERS AND WATCHES CO LTD            Hong Kong SAR   \n",
       "3         WILMAR INTERNATIONAL LIMITED                Singapore   \n",
       "4         ASIA GREEN CAPITAL PTE. LTD.                Singapore   \n",
       "\n",
       "              Domestic Ultimate Company  Is Domestic Ultimate  \\\n",
       "0  FRANK RECRUITMENT GROUP PRIVATE LTD.                     0   \n",
       "1                                   NaN                     0   \n",
       "2           2MBAO BIOCELLBANK PTE. LTD.                     1   \n",
       "3          WILMAR INTERNATIONAL LIMITED                     0   \n",
       "4          ASIA GREEN CAPITAL PTE. LTD.                     1   \n",
       "\n",
       "   Is Global Ultimate  \n",
       "0                   0  \n",
       "1                   0  \n",
       "2                   0  \n",
       "3                   0  \n",
       "4                   1  \n",
       "\n",
       "[5 rows x 28 columns]"
      ]
     },
     "execution_count": 115,
     "metadata": {},
     "output_type": "execute_result"
    }
   ],
   "source": [
    "\n",
    "df2.head(5)"
   ]
  },
  {
   "cell_type": "code",
   "execution_count": 116,
   "metadata": {},
   "outputs": [
    {
     "data": {
      "text/plain": [
       "LATITUDE                                   0\n",
       "LONGITUDE                                  0\n",
       "AccountID                                  0\n",
       "Company                                    0\n",
       "SIC Code                                   0\n",
       "Industry                                   0\n",
       "8-Digit SIC Code                           0\n",
       "8-Digit SIC Description                    0\n",
       "Year Found                                 0\n",
       "Entity Type                                0\n",
       "Parent Company                           502\n",
       "Parent Country                           508\n",
       "Ownership Type                             0\n",
       "Company Description                        0\n",
       "Square Footage                         28632\n",
       "Company Status (Active/Inactive)           0\n",
       "Employees (Single Site)                12231\n",
       "Employees (Domestic Ultimate Total)       74\n",
       "Employees (Global Ultimate Total)       2738\n",
       "Sales (Domestic Ultimate Total USD)        0\n",
       "Sales (Global Ultimate Total USD)          0\n",
       "Import/Export Status                   22062\n",
       "Fiscal Year End                        21932\n",
       "Global Ultimate Company                  502\n",
       "Global Ultimate Country                  511\n",
       "Domestic Ultimate Company               1007\n",
       "Is Domestic Ultimate                       0\n",
       "Is Global Ultimate                         0\n",
       "company age                                0\n",
       "dtype: int64"
      ]
     },
     "execution_count": 116,
     "metadata": {},
     "output_type": "execute_result"
    }
   ],
   "source": [
    "df2 = df2.dropna(subset=[\"Year Found\"])\n",
    "currentyear = 2024\n",
    "df2[\"company age\"] = currentyear - df2[\"Year Found\"]\n",
    "\n",
    "df2.isna().sum()\n"
   ]
  },
  {
   "cell_type": "code",
   "execution_count": 117,
   "metadata": {},
   "outputs": [
    {
     "data": {
      "image/png": "[encoded data removed]",
      "text/plain": [
       "<Figure size 640x480 with 1 Axes>"
      ]
     },
     "metadata": {},
     "output_type": "display_data"
    }
   ],
   "source": [
    "import matplotlib.pyplot as plt\n",
    "\n",
    "plt.hist(df2[\"company age\"], bins=10)\n",
    "plt.title(\"Number of companies within 10 years interval\")\n",
    "plt.xlabel(\"Value\")\n",
    "plt.ylabel(\"Frequency\")\n",
    "\n",
    "# Show the plot\n",
    "plt.show()"
   ]
  },
  {
   "cell_type": "code",
   "execution_count": null,
   "metadata": {},
   "outputs": [],
   "source": []
  },
  {
   "cell_type": "code",
   "execution_count": 118,
   "metadata": {},
   "outputs": [
    {
     "data": {
      "text/plain": [
       "(0.0, 1000000000.0)"
      ]
     },
     "execution_count": 118,
     "metadata": {},
     "output_type": "execute_result"
    },
    {
     "data": {
      "image/png": "[encoded data removed]",
      "text/plain": [
       "<Figure size 640x480 with 1 Axes>"
      ]
     },
     "metadata": {},
     "output_type": "display_data"
    }
   ],
   "source": [
    "X = df2[\"Sales (Global Ultimate Total USD)\"]\n",
    "Y = df2[\"Sales (Domestic Ultimate Total USD)\"]\n",
    "\n",
    "plt.scatter(X,Y)\n",
    "\n",
    "plt.xlim([0, 1E+09])  # Set limits for X-axis\n",
    "plt.ylim([0, 1E+09])  # Set limits for Y-axis"
   ]
  },
  {
   "cell_type": "code",
   "execution_count": 119,
   "metadata": {},
   "outputs": [
    {
     "data": {
      "text/plain": [
       "Text(0, 0.5, 'Domestic Sales (USD)')"
      ]
     },
     "execution_count": 119,
     "metadata": {},
     "output_type": "execute_result"
    },
    {
     "data": {
      "image/png": "[encoded data removed]",
      "text/plain": [
       "<Figure size 640x480 with 1 Axes>"
      ]
     },
     "metadata": {},
     "output_type": "display_data"
    }
   ],
   "source": [
    "import numpy as np\n",
    "from sklearn.linear_model import LinearRegression\n",
    "import matplotlib.pyplot as plt\n",
    "import math\n",
    "\n",
    "X = df2[\"company age\"]\n",
    "Y = df2[\"Sales (Domestic Ultimate Total USD)\"]\n",
    "\n",
    "plt.scatter(X,Y)\n",
    "plt.xlabel(\"Company's age\")\n",
    "plt.ylabel(\"Domestic Sales (USD)\")\n",
    "#plt.xscale('log')\n",
    "#plt.yscale('log')\n"
   ]
  },
  {
   "cell_type": "code",
   "execution_count": 133,
   "metadata": {},
   "outputs": [],
   "source": []
  },
  {
   "cell_type": "code",
   "execution_count": null,
   "metadata": {},
   "outputs": [],
   "source": [
    "from sklearn.linear_model import LinearRegression\n",
    "from sklearn.metrics import mean_squared_error\n"
   ]
  },
  {
   "cell_type": "code",
   "execution_count": 138,
   "metadata": {},
   "outputs": [
    {
     "name": "stdout",
     "output_type": "stream",
     "text": [
      "Mean Squared Error: 1.0591526659352855e+20\n",
      "Coefficients: [-11137725.12373911]\n",
      "Intercept: 979045159.1953623\n",
      "Mean Squared Error: 1.0591526659352855e+20\n",
      "Root Mean Squared Error: 10291514300.312105\n",
      "R-squared: 0.00021246171152211613\n",
      "Adjusted R-squared: 0.00017754073568243545\n"
     ]
    }
   ],
   "source": [
    "\n",
    "X = df2[\"company age\"].values.reshape(-1, 1)\n",
    "Y = df2[\"Sales (Domestic Ultimate Total USD)\"]\n",
    "\n",
    "model = LinearRegression()\n",
    "model.fit(X, Y)\n",
    "\n",
    "# You can access coefficients and intercept\n",
    "coef = model.coef_\n",
    "intercept = model.intercept_\n",
    "\n",
    "\n",
    "\n",
    "# Making predictions using the model\n",
    "Y_pred = model.predict(X)\n",
    "\n",
    "# Calculating Mean Squared Error\n",
    "mse = mean_squared_error(Y, Y_pred)\n",
    "\n",
    "print(\"Mean Squared Error:\", mse)\n",
    "\n",
    "\n",
    "from sklearn.metrics import mean_squared_error, r2_score\n",
    "import numpy as np\n",
    "\n",
    "def regression_summary(X, Y, model):\n",
    "    Y_pred = model.predict(X)\n",
    "    mse = mean_squared_error(Y, Y_pred)\n",
    "    rmse = np.sqrt(mse)\n",
    "    r2 = r2_score(Y, Y_pred)\n",
    "    n = len(X)\n",
    "    p = X.shape[1]  # number of features\n",
    "    adjusted_r2 = 1 - (1 - r2) * (n - 1) / (n - p - 1)\n",
    "\n",
    "    print(\"Coefficients:\", model.coef_)\n",
    "    print(\"Intercept:\", model.intercept_)\n",
    "    print(\"Mean Squared Error:\", mse)\n",
    "    print(\"Root Mean Squared Error:\", rmse)\n",
    "    print(\"R-squared:\", r2)\n",
    "    print(\"Adjusted R-squared:\", adjusted_r2)\n",
    "\n",
    "# Use the function\n",
    "regression_summary(X, Y, model)\n"
   ]
  },
  {
   "cell_type": "markdown",
   "metadata": {},
   "source": [
    "### **ALL** Code for machine learning and dataset analysis should be entered below. \n",
    "##### Ensure that your code is clear and readable.\n",
    "##### Comments and Markdown notes are advised to direct attention to pieces of code you deem useful."
   ]
  },
  {
   "cell_type": "code",
   "execution_count": 139,
   "metadata": {},
   "outputs": [],
   "source": [
    "###...code...###"
   ]
  },
  {
   "cell_type": "markdown",
   "metadata": {},
   "source": [
    "## The cell below is **NOT** to be removed\n",
    "##### The function is to be amended so that it accepts the given input (dataframe) and returns the required output (list). \n",
    "##### It is recommended to test the function out prior to submission\n",
    "-------------------------------------------------------------------------------------------------------------------------------\n",
    "##### The hidden_data parsed into the function below will have the same layout columns wise as the dataset *SENT* to you\n",
    "##### Thus, ensure that steps taken to modify the initial dataset to fit into the model are also carried out in the function below"
   ]
  },
  {
   "cell_type": "code",
   "execution_count": 140,
   "metadata": {},
   "outputs": [],
   "source": [
    "def testing_hidden_data(hidden_data: pd.DataFrame) -> list:\n",
    "    '''DO NOT REMOVE THIS FUNCTION.\n",
    "\n",
    "The function accepts a dataframe as input and return an iterable (list)\n",
    "of binary classes as output.\n",
    "\n",
    "The function should be coded to test on hidden data\n",
    "and should include any preprocessing functions needed for your model to perform. \n",
    "    \n",
    "All relevant code MUST be included in this function.'''\n",
    "\n",
    "    result = [] \n",
    "    return result"
   ]
  },
  {
   "cell_type": "markdown",
   "metadata": {},
   "source": [
    "##### Cell to check testing_hidden_data function"
   ]
  },
  {
   "cell_type": "code",
   "execution_count": 141,
   "metadata": {},
   "outputs": [
    {
     "ename": "KeyError",
     "evalue": "'Square Footage'",
     "output_type": "error",
     "traceback": [
      "\u001b[1;31m---------------------------------------------------------------------------\u001b[0m",
      "\u001b[1;31mKeyError\u001b[0m                                  Traceback (most recent call last)",
      "File \u001b[1;32mc:\\Users\\Desmond\\AppData\\Local\\Programs\\Python\\Python312\\Lib\\site-packages\\pandas\\core\\indexes\\base.py:3791\u001b[0m, in \u001b[0;36mIndex.get_loc\u001b[1;34m(self, key)\u001b[0m\n\u001b[0;32m   3790\u001b[0m \u001b[38;5;28;01mtry\u001b[39;00m:\n\u001b[1;32m-> 3791\u001b[0m     \u001b[38;5;28;01mreturn\u001b[39;00m \u001b[38;5;28;43mself\u001b[39;49m\u001b[38;5;241;43m.\u001b[39;49m\u001b[43m_engine\u001b[49m\u001b[38;5;241;43m.\u001b[39;49m\u001b[43mget_loc\u001b[49m\u001b[43m(\u001b[49m\u001b[43mcasted_key\u001b[49m\u001b[43m)\u001b[49m\n\u001b[0;32m   3792\u001b[0m \u001b[38;5;28;01mexcept\u001b[39;00m \u001b[38;5;167;01mKeyError\u001b[39;00m \u001b[38;5;28;01mas\u001b[39;00m err:\n",
      "File \u001b[1;32mindex.pyx:152\u001b[0m, in \u001b[0;36mpandas._libs.index.IndexEngine.get_loc\u001b[1;34m()\u001b[0m\n",
      "File \u001b[1;32mindex.pyx:181\u001b[0m, in \u001b[0;36mpandas._libs.index.IndexEngine.get_loc\u001b[1;34m()\u001b[0m\n",
      "File \u001b[1;32mpandas\\_libs\\hashtable_class_helper.pxi:7080\u001b[0m, in \u001b[0;36mpandas._libs.hashtable.PyObjectHashTable.get_item\u001b[1;34m()\u001b[0m\n",
      "File \u001b[1;32mpandas\\_libs\\hashtable_class_helper.pxi:7088\u001b[0m, in \u001b[0;36mpandas._libs.hashtable.PyObjectHashTable.get_item\u001b[1;34m()\u001b[0m\n",
      "\u001b[1;31mKeyError\u001b[0m: 'Square Footage'",
      "\nThe above exception was the direct cause of the following exception:\n",
      "\u001b[1;31mKeyError\u001b[0m                                  Traceback (most recent call last)",
      "Cell \u001b[1;32mIn[141], line 3\u001b[0m\n\u001b[0;32m      1\u001b[0m df3 \u001b[38;5;241m=\u001b[39m df2\u001b[38;5;241m.\u001b[39mdropna(subset\u001b[38;5;241m=\u001b[39m[\u001b[38;5;124m\"\u001b[39m\u001b[38;5;124mSales (Domestic Ultimate Total USD)\u001b[39m\u001b[38;5;124m\"\u001b[39m])\n\u001b[1;32m----> 3\u001b[0m \u001b[38;5;28;01mdel\u001b[39;00m \u001b[43mdf2\u001b[49m\u001b[43m[\u001b[49m\u001b[38;5;124;43m\"\u001b[39;49m\u001b[38;5;124;43mSquare Footage\u001b[39;49m\u001b[38;5;124;43m\"\u001b[39;49m\u001b[43m]\u001b[49m\n\u001b[0;32m     10\u001b[0m df2\u001b[38;5;241m.\u001b[39misna()\u001b[38;5;241m.\u001b[39msum()\n",
      "File \u001b[1;32mc:\\Users\\Desmond\\AppData\\Local\\Programs\\Python\\Python312\\Lib\\site-packages\\pandas\\core\\generic.py:4441\u001b[0m, in \u001b[0;36mNDFrame.__delitem__\u001b[1;34m(self, key)\u001b[0m\n\u001b[0;32m   4436\u001b[0m             deleted \u001b[38;5;241m=\u001b[39m \u001b[38;5;28;01mTrue\u001b[39;00m\n\u001b[0;32m   4437\u001b[0m \u001b[38;5;28;01mif\u001b[39;00m \u001b[38;5;129;01mnot\u001b[39;00m deleted:\n\u001b[0;32m   4438\u001b[0m     \u001b[38;5;66;03m# If the above loop ran and didn't delete anything because\u001b[39;00m\n\u001b[0;32m   4439\u001b[0m     \u001b[38;5;66;03m# there was no match, this call should raise the appropriate\u001b[39;00m\n\u001b[0;32m   4440\u001b[0m     \u001b[38;5;66;03m# exception:\u001b[39;00m\n\u001b[1;32m-> 4441\u001b[0m     loc \u001b[38;5;241m=\u001b[39m \u001b[38;5;28;43mself\u001b[39;49m\u001b[38;5;241;43m.\u001b[39;49m\u001b[43maxes\u001b[49m\u001b[43m[\u001b[49m\u001b[38;5;241;43m-\u001b[39;49m\u001b[38;5;241;43m1\u001b[39;49m\u001b[43m]\u001b[49m\u001b[38;5;241;43m.\u001b[39;49m\u001b[43mget_loc\u001b[49m\u001b[43m(\u001b[49m\u001b[43mkey\u001b[49m\u001b[43m)\u001b[49m\n\u001b[0;32m   4442\u001b[0m     \u001b[38;5;28mself\u001b[39m\u001b[38;5;241m.\u001b[39m_mgr \u001b[38;5;241m=\u001b[39m \u001b[38;5;28mself\u001b[39m\u001b[38;5;241m.\u001b[39m_mgr\u001b[38;5;241m.\u001b[39midelete(loc)\n\u001b[0;32m   4444\u001b[0m \u001b[38;5;66;03m# delete from the caches\u001b[39;00m\n",
      "File \u001b[1;32mc:\\Users\\Desmond\\AppData\\Local\\Programs\\Python\\Python312\\Lib\\site-packages\\pandas\\core\\indexes\\base.py:3798\u001b[0m, in \u001b[0;36mIndex.get_loc\u001b[1;34m(self, key)\u001b[0m\n\u001b[0;32m   3793\u001b[0m     \u001b[38;5;28;01mif\u001b[39;00m \u001b[38;5;28misinstance\u001b[39m(casted_key, \u001b[38;5;28mslice\u001b[39m) \u001b[38;5;129;01mor\u001b[39;00m (\n\u001b[0;32m   3794\u001b[0m         \u001b[38;5;28misinstance\u001b[39m(casted_key, abc\u001b[38;5;241m.\u001b[39mIterable)\n\u001b[0;32m   3795\u001b[0m         \u001b[38;5;129;01mand\u001b[39;00m \u001b[38;5;28many\u001b[39m(\u001b[38;5;28misinstance\u001b[39m(x, \u001b[38;5;28mslice\u001b[39m) \u001b[38;5;28;01mfor\u001b[39;00m x \u001b[38;5;129;01min\u001b[39;00m casted_key)\n\u001b[0;32m   3796\u001b[0m     ):\n\u001b[0;32m   3797\u001b[0m         \u001b[38;5;28;01mraise\u001b[39;00m InvalidIndexError(key)\n\u001b[1;32m-> 3798\u001b[0m     \u001b[38;5;28;01mraise\u001b[39;00m \u001b[38;5;167;01mKeyError\u001b[39;00m(key) \u001b[38;5;28;01mfrom\u001b[39;00m \u001b[38;5;21;01merr\u001b[39;00m\n\u001b[0;32m   3799\u001b[0m \u001b[38;5;28;01mexcept\u001b[39;00m \u001b[38;5;167;01mTypeError\u001b[39;00m:\n\u001b[0;32m   3800\u001b[0m     \u001b[38;5;66;03m# If we have a listlike key, _check_indexing_error will raise\u001b[39;00m\n\u001b[0;32m   3801\u001b[0m     \u001b[38;5;66;03m#  InvalidIndexError. Otherwise we fall through and re-raise\u001b[39;00m\n\u001b[0;32m   3802\u001b[0m     \u001b[38;5;66;03m#  the TypeError.\u001b[39;00m\n\u001b[0;32m   3803\u001b[0m     \u001b[38;5;28mself\u001b[39m\u001b[38;5;241m.\u001b[39m_check_indexing_error(key)\n",
      "\u001b[1;31mKeyError\u001b[0m: 'Square Footage'"
     ]
    }
   ],
   "source": [
    "df3 = df2.dropna(subset=[\"Sales (Domestic Ultimate Total USD)\"])\n",
    "\n",
    "del df2[\"Square Footage\"]\n",
    "\n",
    "\n",
    "\n",
    "\n",
    "\n",
    "\n",
    "df2.isna().sum()"
   ]
  },
  {
   "cell_type": "code",
   "execution_count": null,
   "metadata": {},
   "outputs": [
    {
     "name": "stdout",
     "output_type": "stream",
     "text": [
      "Missing values in X: 62067\n",
      "Missing values in y: 0\n",
      "Non-numeric types in X: ['AccountID', 'Company', 'Industry', '8-Digit SIC Description', 'Entity Type', 'Parent Company', 'Parent Country', 'Ownership Type', 'Company Description', 'Company Status (Active/Inactive)', 'Import/Export Status', 'Fiscal Year End', 'Global Ultimate Company', 'Global Ultimate Country', 'Domestic Ultimate Company']\n"
     ]
    },
    {
     "ename": "TypeError",
     "evalue": "ufunc 'isinf' not supported for the input types, and the inputs could not be safely coerced to any supported types according to the casting rule ''safe''",
     "output_type": "error",
     "traceback": [
      "\u001b[1;31m---------------------------------------------------------------------------\u001b[0m",
      "\u001b[1;31mTypeError\u001b[0m                                 Traceback (most recent call last)",
      "Cell \u001b[1;32mIn[125], line 17\u001b[0m\n\u001b[0;32m     15\u001b[0m \u001b[38;5;28mprint\u001b[39m(\u001b[38;5;124m\"\u001b[39m\u001b[38;5;124mMissing values in y:\u001b[39m\u001b[38;5;124m\"\u001b[39m, y\u001b[38;5;241m.\u001b[39misnull()\u001b[38;5;241m.\u001b[39msum())\n\u001b[0;32m     16\u001b[0m \u001b[38;5;28mprint\u001b[39m(\u001b[38;5;124m\"\u001b[39m\u001b[38;5;124mNon-numeric types in X:\u001b[39m\u001b[38;5;124m\"\u001b[39m, X\u001b[38;5;241m.\u001b[39mselect_dtypes(exclude\u001b[38;5;241m=\u001b[39m[np\u001b[38;5;241m.\u001b[39mnumber])\u001b[38;5;241m.\u001b[39mcolumns\u001b[38;5;241m.\u001b[39mtolist())\n\u001b[1;32m---> 17\u001b[0m \u001b[38;5;28mprint\u001b[39m(\u001b[38;5;124m\"\u001b[39m\u001b[38;5;124mInfinite values in X:\u001b[39m\u001b[38;5;124m\"\u001b[39m, \u001b[43mnp\u001b[49m\u001b[38;5;241;43m.\u001b[39;49m\u001b[43misinf\u001b[49m\u001b[43m(\u001b[49m\u001b[43mX\u001b[49m\u001b[38;5;241;43m.\u001b[39;49m\u001b[43mvalues\u001b[49m\u001b[43m)\u001b[49m\u001b[38;5;241m.\u001b[39msum())\n\u001b[0;32m     18\u001b[0m \u001b[38;5;28mprint\u001b[39m(\u001b[38;5;124m\"\u001b[39m\u001b[38;5;124mInfinite values in y:\u001b[39m\u001b[38;5;124m\"\u001b[39m, np\u001b[38;5;241m.\u001b[39misinf(y\u001b[38;5;241m.\u001b[39mvalues)\u001b[38;5;241m.\u001b[39msum())\n\u001b[0;32m     20\u001b[0m \u001b[38;5;66;03m# Split the data into training and test sets\u001b[39;00m\n",
      "\u001b[1;31mTypeError\u001b[0m: ufunc 'isinf' not supported for the input types, and the inputs could not be safely coerced to any supported types according to the casting rule ''safe''"
     ]
    }
   ],
   "source": [
    "# Import necessary libraries\n",
    "from sklearn.ensemble import GradientBoostingRegressor\n",
    "from sklearn.model_selection import train_test_split, cross_val_score, KFold\n",
    "from sklearn.metrics import mean_squared_error, r2_score\n",
    "import numpy as np  # Added for data checks\n",
    "\n",
    "# Assuming df2 is your correct DataFrame and already imported\n",
    "\n",
    "# Separate features and target variable\n",
    "X = df2.drop(\"Sales (Domestic Ultimate Total USD)\", axis=1)\n",
    "y = df2[\"Sales (Domestic Ultimate Total USD)\"]\n",
    "\n",
    "# Check for common data issues\n",
    "print(\"Missing values in X:\", X.isnull().sum().sum())\n",
    "print(\"Missing values in y:\", y.isnull().sum())\n",
    "print(\"Non-numeric types in X:\", X.select_dtypes(exclude=[np.number]).columns.tolist())\n",
    "print(\"Infinite values in X:\", np.isinf(X.values).sum())\n",
    "print(\"Infinite values in y:\", np.isinf(y.values).sum())\n",
    "\n",
    "# Split the data into training and test sets\n",
    "X_train, X_test, y_train, y_test = train_test_split(X, y, test_size=0.2, random_state=42)\n",
    "\n",
    "# Initialize the GradientBoostingRegressor\n",
    "model = GradientBoostingRegressor(random_state=42)\n",
    "\n",
    "# Train the model\n",
    "model.fit(X_train, y_train)\n",
    "\n",
    "# Make predictions\n",
    "predictions = model.predict(X_test)\n",
    "\n",
    "# Evaluate the model\n",
    "mse = mean_squared_error(y_test, predictions)\n",
    "r2 = r2_score(y_test, predictions)\n",
    "\n",
    "# Print evaluation metrics\n",
    "print(\"Mean Squared Error:\", mse)\n",
    "print(\"R² Score:\", r2)\n"
   ]
  },
  {
   "cell_type": "code",
   "execution_count": null,
   "metadata": {},
   "outputs": [],
   "source": [
    "# This cell should output a list of predictions.\n",
    "test_df = pd.read_csv(filepath)\n",
    "test_df = test_df.drop(columns=['Sales (Domestic Ultimate Total USD)'])\n",
    "print(testing_hidden_data(test_df))"
   ]
  },
  {
   "cell_type": "markdown",
   "metadata": {},
   "source": [
    "### Please have the filename renamed and ensure that it can be run with the requirements above being met. All the best!"
   ]
  }
 ],
 "metadata": {
  "kernelspec": {
   "display_name": "Python 3",
   "language": "python",
   "name": "python3"
  },
  "language_info": {
   "codemirror_mode": {
    "name": "ipython",
    "version": 3
   },
   "file_extension": ".py",
   "mimetype": "text/x-python",
   "name": "python",
   "nbconvert_exporter": "python",
   "pygments_lexer": "ipython3",
   "version": "0.0.0"
  }
 },
 "nbformat": 4,
 "nbformat_minor": 2
}
